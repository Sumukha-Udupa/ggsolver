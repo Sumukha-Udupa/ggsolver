{
 "cells": [
  {
   "cell_type": "markdown",
   "id": "c76a6f6a",
   "metadata": {},
   "source": [
    "# Pickling Game Objects\n",
    "\n",
    "In this example, we demonstrate how to pickle game objects \n",
    "- using default implementation in `ggsolver`,\n",
    "- how to modify default implementation.\n",
    "\n",
    "Also applies to `ggsolver.parsers.automata`\n"
   ]
  },
  {
   "cell_type": "code",
   "execution_count": 1,
   "id": "88393be1",
   "metadata": {},
   "outputs": [],
   "source": [
    "import sys\n",
    "sys.path.append('/home/ggsolver/')"
   ]
  },
  {
   "cell_type": "markdown",
   "id": "71b2ecc2",
   "metadata": {},
   "source": [
    "## Default game objects\n",
    "\n",
    "Most game objects in `ggsolver` can be constructed either in `explicit` or `symbolic` mode. In `explicit` mode, the game object stores a complete game graph as `networkx.MultiDiGraph`. On the other hand, in `symbolic` mode, game object stores predecessor, successor and transition functions that operate on `game.graph` that only remembers nodes to generate edges on-the-fly. \n",
    "\n",
    "Since pickle cannot save functions, the default implementation of game object pickling saves the source code of user-defined predecessor, successor and transition functions. \n",
    "\n",
    "Since these features apply by default to all `BaseGame` objects, game objects can be pickled as any other python objects. "
   ]
  },
  {
   "cell_type": "code",
   "execution_count": 3,
   "id": "992a1f0c",
   "metadata": {},
   "outputs": [
    {
     "name": "stdout",
     "output_type": "stream",
     "text": [
      "game.__dict__:\n",
      "\t_name: test game\n",
      "\t_graph: MultiDiGraph with 3 nodes and 2 edges\n",
      "\t_actions: {'a'}\n",
      "\t_delta: <function DtptbGame.construct_explicit.<locals>._delta at 0x7feb643319d8>\n",
      "\t_pred: <function DtptbGame.construct_explicit.<locals>._pred at 0x7feb64331268>\n",
      "\t_succ: <function DtptbGame.construct_explicit.<locals>._succ at 0x7feb64331048>\n",
      "\t_init_st: None\n",
      "\t_atoms: set()\n",
      "\t_label: None\n",
      "\t_properties: {}\n",
      "\t_is_constructed: True\n",
      "\t_mode: explicit\n",
      "\t_pkl_encode_func: ['_pred', '_succ', '_delta', '_label']\n",
      "\t_labeling_function: None\n",
      "\n",
      "upkl_game.__dict__:\n",
      "\t_name: test game\n",
      "\t_graph: MultiDiGraph with 3 nodes and 2 edges\n",
      "\t_actions: {'a'}\n",
      "\t_delta: <function _delta at 0x7feb64331b70>\n",
      "\t_pred: <function _pred at 0x7feb64331840>\n",
      "\t_succ: <function _succ at 0x7feb64331ae8>\n",
      "\t_init_st: None\n",
      "\t_atoms: set()\n",
      "\t_label: None\n",
      "\t_properties: {}\n",
      "\t_is_constructed: True\n",
      "\t_mode: explicit\n",
      "\t_pkl_encode_func: ['_pred', '_succ', '_delta', '_label']\n",
      "\t_labeling_function: None\n"
     ]
    }
   ],
   "source": [
    "# Let's use deterministic two-player turn-based game for demo.\n",
    "import ggsolver.dtptb as dtptb\n",
    "import networkx as nx\n",
    "import pickle \n",
    "\n",
    "# Create a game.\n",
    "graph = nx.MultiDiGraph()\n",
    "graph.add_nodes_from([(1, {\"turn\": 1}), (2, {\"turn\": 1}), (3, {\"turn\": 1})])\n",
    "graph.add_edges_from([(1, 2, {\"action\": \"a\"}), (2, 3, {\"action\": \"a\"})])\n",
    "\n",
    "game = dtptb.DtptbGame(name=\"test game\")\n",
    "game.construct_explicit(graph)\n",
    "\n",
    "# Pickle game\n",
    "game_str = pickle.dumps(game)\n",
    "\n",
    "# Unpickle game\n",
    "upkl_game = pickle.loads(game_str)\n",
    "\n",
    "# Compare object states\n",
    "print(f\"game.__dict__:\")\n",
    "for k, v in game.__dict__.items():\n",
    "    print(f\"\\t{k}: {v}\")\n",
    "print()\n",
    "print(f\"upkl_game.__dict__:\")\n",
    "for k, v in upkl_game.__dict__.items():\n",
    "    print(f\"\\t{k}: {v}\")"
   ]
  },
  {
   "cell_type": "markdown",
   "id": "948d3119",
   "metadata": {},
   "source": [
    "## Writing custom objects. \n",
    "\n",
    "By default the `_pred, _succ, _delta, _label` attributes in are pickled by fetching their source code while pickling and reconstructing the functions while unpickling. \n",
    "\n",
    "However, if a game object derived from `BaseGame` has other attributes that store functions that should be pickled, the class definition must extend `_pkl_encode_func` attribute of `BaseGame`. This attribute stores a list of game attributes that should be treated as function object for pickling process.\n",
    "\n",
    "- Default: `_pkl_encode_func = ['_pred', '_succ', '_delta', '_label']`\n",
    "- Extend as: `self._pkl_encode_func.extend([list of new attributes as strings])`"
   ]
  },
  {
   "cell_type": "code",
   "execution_count": 5,
   "id": "bf880697",
   "metadata": {},
   "outputs": [
    {
     "name": "stdout",
     "output_type": "stream",
     "text": [
      "game.__dict__:\n",
      "\t_name: new game\n",
      "\t_graph: MultiDiGraph with 3 nodes and 2 edges\n",
      "\t_actions: {'a'}\n",
      "\t_delta: <function DtptbGame.construct_explicit.<locals>._delta at 0x7feb64331d90>\n",
      "\t_pred: <function DtptbGame.construct_explicit.<locals>._pred at 0x7feb643316a8>\n",
      "\t_succ: <function DtptbGame.construct_explicit.<locals>._succ at 0x7feb64331c80>\n",
      "\t_init_st: None\n",
      "\t_atoms: set()\n",
      "\t_label: None\n",
      "\t_properties: {}\n",
      "\t_is_constructed: True\n",
      "\t_mode: explicit\n",
      "\t_pkl_encode_func: ['_pred', '_succ', '_delta', '_label', '_foo']\n",
      "\t_foo: <function foo at 0x7feb647662f0>\n",
      "\t_labeling_function: None\n",
      "\n",
      "upkl_game.__dict__:\n",
      "\t_name: new game\n",
      "\t_graph: MultiDiGraph with 3 nodes and 2 edges\n",
      "\t_actions: {'a'}\n",
      "\t_delta: <function _delta at 0x7feb643312f0>\n",
      "\t_pred: <function _pred at 0x7feb64331400>\n",
      "\t_succ: <function _succ at 0x7feb64331f28>\n",
      "\t_init_st: None\n",
      "\t_atoms: set()\n",
      "\t_label: None\n",
      "\t_properties: {}\n",
      "\t_is_constructed: True\n",
      "\t_mode: explicit\n",
      "\t_pkl_encode_func: ['_pred', '_succ', '_delta', '_label', '_foo']\n",
      "\t_foo: <function foo at 0x7feb64331510>\n",
      "\t_labeling_function: None\n"
     ]
    }
   ],
   "source": [
    "# Define a dummy function to use for demo.\n",
    "def foo(a, b):\n",
    "    return a + b\n",
    "\n",
    "# Define a new class with _foo attribute that stores a function object. \n",
    "class NewGame(dtptb.DtptbGame):\n",
    "    def __init__(self, name):\n",
    "        super(NewGame, self).__init__(name)\n",
    "        self._foo = foo\n",
    "        self._pkl_encode_func.extend(['_foo'])\n",
    "\n",
    "# Create NewGame object\n",
    "game = NewGame('new game')\n",
    "game.construct_explicit(graph)\n",
    "\n",
    "# Pickle object\n",
    "game_str = pickle.dumps(game)\n",
    "\n",
    "# Unpickle game\n",
    "upkl_game = pickle.loads(game_str)\n",
    "\n",
    "# Compare object states\n",
    "print(f\"game.__dict__:\")\n",
    "for k, v in game.__dict__.items():\n",
    "    print(f\"\\t{k}: {v}\")\n",
    "print()\n",
    "print(f\"upkl_game.__dict__:\")\n",
    "for k, v in upkl_game.__dict__.items():\n",
    "    print(f\"\\t{k}: {v}\")"
   ]
  },
  {
   "cell_type": "markdown",
   "id": "e129b750",
   "metadata": {},
   "source": [
    "## Modifying `__setstate__` and `__getstate__`\n",
    "\n",
    "This section provides pointers on how to override default pickling behavior. This should rarely be required, but is good to know. \n",
    "\n",
    "Two functions are important to modify python's default pickling behavior. \n",
    "* `__getstate__`: defines python object's state to be pickled. (https://docs.python.org/3/library/pickle.html#object.__getstate__)\n",
    "\n",
    "* `__setstate__`: defines how python object's state is constructed given a dictionary of attribute names to python objects. (https://docs.python.org/3/library/pickle.html#object.__setstate__)\n"
   ]
  }
 ],
 "metadata": {
  "kernelspec": {
   "display_name": "Python 3 (ipykernel)",
   "language": "python",
   "name": "python3"
  },
  "language_info": {
   "codemirror_mode": {
    "name": "ipython",
    "version": 3
   },
   "file_extension": ".py",
   "mimetype": "text/x-python",
   "name": "python",
   "nbconvert_exporter": "python",
   "pygments_lexer": "ipython3",
   "version": "3.7.3"
  }
 },
 "nbformat": 4,
 "nbformat_minor": 5
}
