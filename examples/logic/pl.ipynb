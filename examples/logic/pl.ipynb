{
 "cells": [
  {
   "cell_type": "code",
   "execution_count": 1,
   "id": "c085def9",
   "metadata": {},
   "outputs": [],
   "source": [
    "import sys\n",
    "sys.path.append('/home/ggsolver/')"
   ]
  },
  {
   "cell_type": "code",
   "execution_count": 2,
   "id": "50182e17",
   "metadata": {},
   "outputs": [],
   "source": [
    "from ggsolver.logic import PLFormula"
   ]
  },
  {
   "cell_type": "code",
   "execution_count": 3,
   "id": "3967f6f2",
   "metadata": {},
   "outputs": [
    {
     "name": "stdout",
     "output_type": "stream",
     "text": [
      "str(f):  true\n",
      "repr(f):  <ggsolver.logic.pl.PLFormula object at 0x7f4b18d25898>\n",
      "f.evaluate() =  True\n"
     ]
    }
   ],
   "source": [
    "f = PLFormula(\"true\")\n",
    "print(\"str(f): \", str(f))\n",
    "print(\"repr(f): \", repr(f))\n",
    "print(\"f.evaluate() = \", f.evaluate())"
   ]
  },
  {
   "cell_type": "code",
   "execution_count": 4,
   "id": "f61c33e9",
   "metadata": {},
   "outputs": [
    {
     "name": "stdout",
     "output_type": "stream",
     "text": [
      "str(f):  true\n",
      "repr(f):  <ggsolver.logic.pl.PLFormula object at 0x7f4b18cc1390>\n",
      "f.evaluate() =  True\n"
     ]
    }
   ],
   "source": [
    "f = PLFormula(\"true\")\n",
    "print(\"str(f): \", str(f))\n",
    "print(\"repr(f): \", repr(f))\n",
    "print(\"f.evaluate() = \", f.evaluate())"
   ]
  },
  {
   "cell_type": "code",
   "execution_count": 5,
   "id": "118594cc",
   "metadata": {},
   "outputs": [
    {
     "name": "stdout",
     "output_type": "stream",
     "text": [
      "str(f):  p\n",
      "repr(f):  <ggsolver.logic.pl.PLFormula object at 0x7f4b18d104e0>\n",
      "f.evaluate({'p': True}) =  True\n",
      "f.evaluate({'p': False}) =  False\n"
     ]
    }
   ],
   "source": [
    "f = PLFormula(\"p\")\n",
    "print(\"str(f): \", str(f))\n",
    "print(\"repr(f): \", repr(f))\n",
    "print(\"f.evaluate({'p': True}) = \", f.evaluate({'p': True}))\n",
    "print(\"f.evaluate({'p': False}) = \", f.evaluate({'p': False}))"
   ]
  },
  {
   "cell_type": "code",
   "execution_count": 6,
   "id": "cd99d13d",
   "metadata": {},
   "outputs": [
    {
     "name": "stdout",
     "output_type": "stream",
     "text": [
      "str(f):  !(p)\n",
      "repr(f):  <ggsolver.logic.pl.PLFormula object at 0x7f4b18d10908>\n",
      "f.evaluate({'p': True}) =  False\n",
      "f.evaluate({'p': False}) =  True\n"
     ]
    }
   ],
   "source": [
    "f = PLFormula(\"!p\")\n",
    "print(\"str(f): \", str(f))\n",
    "print(\"repr(f): \", repr(f))\n",
    "print(\"f.evaluate({'p': True}) = \", f.evaluate({'p': True}))\n",
    "print(\"f.evaluate({'p': False}) = \", f.evaluate({'p': False}))"
   ]
  },
  {
   "cell_type": "code",
   "execution_count": 7,
   "id": "3e1acc5c",
   "metadata": {},
   "outputs": [
    {
     "name": "stdout",
     "output_type": "stream",
     "text": [
      "str(f):  (!(p)) & (q)\n",
      "repr(f):  <ggsolver.logic.pl.PLFormula object at 0x7f4b18c3a1d0>\n",
      "f.evaluate({'p': True, 'q': True}) =  False\n",
      "f.evaluate({'p': False, 'q': True}) =  True\n",
      "f.evaluate({'p': True, 'q': False}) =  False\n",
      "f.evaluate({'p': False, 'q': False}) =  False\n"
     ]
    }
   ],
   "source": [
    "f = PLFormula(\"!p & q\")\n",
    "print(\"str(f): \", str(f))\n",
    "print(\"repr(f): \", repr(f))\n",
    "print(\"f.evaluate({'p': True, 'q': True}) = \", f.evaluate({'p': True, 'q': True}))\n",
    "print(\"f.evaluate({'p': False, 'q': True}) = \", f.evaluate({'p': False, 'q': True}))\n",
    "print(\"f.evaluate({'p': True, 'q': False}) = \", f.evaluate({'p': True, 'q': False}))\n",
    "print(\"f.evaluate({'p': False, 'q': False}) = \", f.evaluate({'p': False, 'q': False}))"
   ]
  },
  {
   "cell_type": "code",
   "execution_count": 8,
   "id": "c8dded6b",
   "metadata": {},
   "outputs": [
    {
     "name": "stdout",
     "output_type": "stream",
     "text": [
      "str(f):  (!(p)) | (q)\n",
      "repr(f):  <ggsolver.logic.pl.PLFormula object at 0x7f4b18c3a3c8>\n",
      "f.evaluate({'p': True, 'q': True}) =  True\n",
      "f.evaluate({'p': False, 'q': True}) =  True\n",
      "f.evaluate({'p': True, 'q': False}) =  False\n",
      "f.evaluate({'p': False, 'q': False}) =  True\n"
     ]
    }
   ],
   "source": [
    "f = PLFormula(\"~p | q\")\n",
    "print(\"str(f): \", str(f))\n",
    "print(\"repr(f): \", repr(f))\n",
    "print(\"f.evaluate({'p': True, 'q': True}) = \", f.evaluate({'p': True, 'q': True}))\n",
    "print(\"f.evaluate({'p': False, 'q': True}) = \", f.evaluate({'p': False, 'q': True}))\n",
    "print(\"f.evaluate({'p': True, 'q': False}) = \", f.evaluate({'p': True, 'q': False}))\n",
    "print(\"f.evaluate({'p': False, 'q': False}) = \", f.evaluate({'p': False, 'q': False}))"
   ]
  },
  {
   "cell_type": "markdown",
   "id": "3fac7461",
   "metadata": {},
   "source": [
    "## Translation"
   ]
  },
  {
   "cell_type": "code",
   "execution_count": 11,
   "id": "f9485c15",
   "metadata": {},
   "outputs": [],
   "source": [
    "f = PLFormula(\"p & q\")\n",
    "aut = f.translate()"
   ]
  },
  {
   "cell_type": "code",
   "execution_count": 12,
   "id": "18e80837",
   "metadata": {},
   "outputs": [
    {
     "name": "stdout",
     "output_type": "stream",
     "text": [
      "\n",
      "    This Dfa has 3 states.\n",
      "    Alphabet: {'q', 'p'}\n",
      "    Starting state: 1\n",
      "    Accepting states: {0}\n",
      "    States: [0, 1, 2]\n",
      "    Transition function:\n",
      "\t\t0 -- {} --> 0\n",
      "\t\t0 -- {'q'} --> 0\n",
      "\t\t0 -- {'p'} --> 0\n",
      "\t\t0 -- {'q', 'p'} --> 0\n",
      "\t\t1 -- {} --> 2\n",
      "\t\t1 -- {'q'} --> 2\n",
      "\t\t1 -- {'p'} --> 2\n",
      "\t\t1 -- {'q', 'p'} --> 0\n",
      "\t\t2 -- {} --> 2\n",
      "\t\t2 -- {'q'} --> 2\n",
      "\t\t2 -- {'p'} --> 2\n",
      "\t\t2 -- {'q', 'p'} --> 2\n"
     ]
    }
   ],
   "source": [
    "print(aut)"
   ]
  }
 ],
 "metadata": {
  "kernelspec": {
   "display_name": "Python 3 (ipykernel)",
   "language": "python",
   "name": "python3"
  },
  "language_info": {
   "codemirror_mode": {
    "name": "ipython",
    "version": 3
   },
   "file_extension": ".py",
   "mimetype": "text/x-python",
   "name": "python",
   "nbconvert_exporter": "python",
   "pygments_lexer": "ipython3",
   "version": "3.7.3"
  }
 },
 "nbformat": 4,
 "nbformat_minor": 5
}
