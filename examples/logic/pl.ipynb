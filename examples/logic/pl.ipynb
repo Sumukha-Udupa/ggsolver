{
 "cells": [
  {
   "cell_type": "code",
   "execution_count": 1,
   "id": "c085def9",
   "metadata": {},
   "outputs": [],
   "source": [
    "import sys\n",
    "sys.path.append('/home/ggsolver/')"
   ]
  },
  {
   "cell_type": "code",
   "execution_count": 2,
   "id": "50182e17",
   "metadata": {},
   "outputs": [],
   "source": [
    "from ggsolver.logic import PLFormula"
   ]
  },
  {
   "cell_type": "code",
   "execution_count": 9,
   "id": "3967f6f2",
   "metadata": {},
   "outputs": [
    {
     "name": "stdout",
     "output_type": "stream",
     "text": [
      "str(f):  true\n",
      "repr(f):  <ggsolver.logic.pl.PLFormula object at 0x7ff289b19cf8>\n",
      "f.evaluate() =  True\n"
     ]
    }
   ],
   "source": [
    "f = PLFormula(\"true\")\n",
    "print(\"str(f): \", str(f))\n",
    "print(\"repr(f): \", repr(f))\n",
    "print(\"f.evaluate() = \", f.evaluate())"
   ]
  },
  {
   "cell_type": "code",
   "execution_count": 4,
   "id": "f61c33e9",
   "metadata": {},
   "outputs": [
    {
     "name": "stdout",
     "output_type": "stream",
     "text": [
      "str(f):  true\n",
      "repr(f):  <ggsolver.logic.pl.PLFormula object at 0x7ff289b89cc0>\n",
      "f.evaluate() =  True\n"
     ]
    }
   ],
   "source": [
    "f = PLFormula(\"true\")\n",
    "print(\"str(f): \", str(f))\n",
    "print(\"repr(f): \", repr(f))\n",
    "print(\"f.evaluate() = \", f.evaluate())"
   ]
  },
  {
   "cell_type": "code",
   "execution_count": 5,
   "id": "118594cc",
   "metadata": {},
   "outputs": [
    {
     "name": "stdout",
     "output_type": "stream",
     "text": [
      "str(f):  p\n",
      "repr(f):  <ggsolver.logic.pl.PLFormula object at 0x7ff289b19518>\n",
      "f.evaluate({'p': True}) =  True\n",
      "f.evaluate({'p': False}) =  False\n"
     ]
    }
   ],
   "source": [
    "f = PLFormula(\"p\")\n",
    "print(\"str(f): \", str(f))\n",
    "print(\"repr(f): \", repr(f))\n",
    "print(\"f.evaluate({'p': True}) = \", f.evaluate({'p': True}))\n",
    "print(\"f.evaluate({'p': False}) = \", f.evaluate({'p': False}))"
   ]
  },
  {
   "cell_type": "code",
   "execution_count": 6,
   "id": "cd99d13d",
   "metadata": {},
   "outputs": [
    {
     "name": "stdout",
     "output_type": "stream",
     "text": [
      "str(f):  !(p)\n",
      "repr(f):  <ggsolver.logic.pl.PLFormula object at 0x7ff289b19748>\n",
      "f.evaluate({'p': True}) =  False\n",
      "f.evaluate({'p': False}) =  True\n"
     ]
    }
   ],
   "source": [
    "f = PLFormula(\"!p\")\n",
    "print(\"str(f): \", str(f))\n",
    "print(\"repr(f): \", repr(f))\n",
    "print(\"f.evaluate({'p': True}) = \", f.evaluate({'p': True}))\n",
    "print(\"f.evaluate({'p': False}) = \", f.evaluate({'p': False}))"
   ]
  },
  {
   "cell_type": "code",
   "execution_count": 7,
   "id": "3e1acc5c",
   "metadata": {},
   "outputs": [
    {
     "name": "stdout",
     "output_type": "stream",
     "text": [
      "str(f):  (!(p)) & (q)\n",
      "repr(f):  <ggsolver.logic.pl.PLFormula object at 0x7ff289b17048>\n",
      "f.evaluate({'p': True, 'q': True}) =  False\n",
      "f.evaluate({'p': False, 'q': True}) =  True\n",
      "f.evaluate({'p': True, 'q': False}) =  False\n",
      "f.evaluate({'p': False, 'q': False}) =  False\n"
     ]
    }
   ],
   "source": [
    "f = PLFormula(\"!p & q\")\n",
    "print(\"str(f): \", str(f))\n",
    "print(\"repr(f): \", repr(f))\n",
    "print(\"f.evaluate({'p': True, 'q': True}) = \", f.evaluate({'p': True, 'q': True}))\n",
    "print(\"f.evaluate({'p': False, 'q': True}) = \", f.evaluate({'p': False, 'q': True}))\n",
    "print(\"f.evaluate({'p': True, 'q': False}) = \", f.evaluate({'p': True, 'q': False}))\n",
    "print(\"f.evaluate({'p': False, 'q': False}) = \", f.evaluate({'p': False, 'q': False}))"
   ]
  },
  {
   "cell_type": "code",
   "execution_count": 8,
   "id": "c8dded6b",
   "metadata": {},
   "outputs": [
    {
     "name": "stdout",
     "output_type": "stream",
     "text": [
      "str(f):  (!(p)) | (q)\n",
      "repr(f):  <ggsolver.logic.pl.PLFormula object at 0x7ff289b17240>\n",
      "f.evaluate({'p': True, 'q': True}) =  True\n",
      "f.evaluate({'p': False, 'q': True}) =  True\n",
      "f.evaluate({'p': True, 'q': False}) =  False\n",
      "f.evaluate({'p': False, 'q': False}) =  True\n"
     ]
    }
   ],
   "source": [
    "f = PLFormula(\"~p | q\")\n",
    "print(\"str(f): \", str(f))\n",
    "print(\"repr(f): \", repr(f))\n",
    "print(\"f.evaluate({'p': True, 'q': True}) = \", f.evaluate({'p': True, 'q': True}))\n",
    "print(\"f.evaluate({'p': False, 'q': True}) = \", f.evaluate({'p': False, 'q': True}))\n",
    "print(\"f.evaluate({'p': True, 'q': False}) = \", f.evaluate({'p': True, 'q': False}))\n",
    "print(\"f.evaluate({'p': False, 'q': False}) = \", f.evaluate({'p': False, 'q': False}))"
   ]
  }
 ],
 "metadata": {
  "kernelspec": {
   "display_name": "Python 3 (ipykernel)",
   "language": "python",
   "name": "python3"
  },
  "language_info": {
   "codemirror_mode": {
    "name": "ipython",
    "version": 3
   },
   "file_extension": ".py",
   "mimetype": "text/x-python",
   "name": "python",
   "nbconvert_exporter": "python",
   "pygments_lexer": "ipython3",
   "version": "3.7.3"
  }
 },
 "nbformat": 4,
 "nbformat_minor": 5
}
