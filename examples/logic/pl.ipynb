{
 "cells": [
  {
   "cell_type": "code",
   "execution_count": 1,
   "id": "8738ecbb",
   "metadata": {},
   "outputs": [],
   "source": [
    "import sys\n",
    "sys.path.append('/home/ggsolver/')"
   ]
  },
  {
   "cell_type": "code",
   "execution_count": 2,
   "id": "8b709029",
   "metadata": {},
   "outputs": [],
   "source": [
    "from ggsolver.logic import PLFormula"
   ]
  },
  {
   "cell_type": "code",
   "execution_count": 3,
   "id": "cee9f495",
   "metadata": {},
   "outputs": [
    {
     "name": "stdout",
     "output_type": "stream",
     "text": [
      "str(f):  true\n",
      "repr(f):  <ggsolver.logic.pl.PLFormula object at 0x7ff289b89f60>\n",
      "f.evaluate() =  True\n"
     ]
    }
   ],
   "source": [
    "f = PLFormula(\"true\")\n",
    "print(\"str(f): \", str(f))\n",
    "print(\"repr(f): \", repr(f))\n",
    "print(\"f.evaluate() = \", f.evaluate())"
   ]
  },
  {
   "cell_type": "code",
   "execution_count": 4,
   "id": "c19c2985",
   "metadata": {},
   "outputs": [
    {
     "name": "stdout",
     "output_type": "stream",
     "text": [
      "str(f):  true\n",
      "repr(f):  <ggsolver.logic.pl.PLFormula object at 0x7ff289b89cc0>\n",
      "f.evaluate() =  True\n"
     ]
    }
   ],
   "source": [
    "f = PLFormula(\"true\")\n",
    "print(\"str(f): \", str(f))\n",
    "print(\"repr(f): \", repr(f))\n",
    "print(\"f.evaluate() = \", f.evaluate())"
   ]
  },
  {
   "cell_type": "code",
   "execution_count": 5,
   "id": "b21e7f24",
   "metadata": {},
   "outputs": [
    {
     "name": "stdout",
     "output_type": "stream",
     "text": [
      "str(f):  p\n",
      "repr(f):  <ggsolver.logic.pl.PLFormula object at 0x7ff289b19518>\n",
      "f.evaluate({'p': True}) =  True\n",
      "f.evaluate({'p': False}) =  False\n"
     ]
    }
   ],
   "source": [
    "f = PLFormula(\"p\")\n",
    "print(\"str(f): \", str(f))\n",
    "print(\"repr(f): \", repr(f))\n",
    "print(\"f.evaluate({'p': True}) = \", f.evaluate({'p': True}))\n",
    "print(\"f.evaluate({'p': False}) = \", f.evaluate({'p': False}))"
   ]
  },
  {
   "cell_type": "code",
   "execution_count": 6,
   "id": "a615357e",
   "metadata": {},
   "outputs": [
    {
     "name": "stdout",
     "output_type": "stream",
     "text": [
      "str(f):  !(p)\n",
      "repr(f):  <ggsolver.logic.pl.PLFormula object at 0x7ff289b19748>\n",
      "f.evaluate({'p': True}) =  False\n",
      "f.evaluate({'p': False}) =  True\n"
     ]
    }
   ],
   "source": [
    "f = PLFormula(\"!p\")\n",
    "print(\"str(f): \", str(f))\n",
    "print(\"repr(f): \", repr(f))\n",
    "print(\"f.evaluate({'p': True}) = \", f.evaluate({'p': True}))\n",
    "print(\"f.evaluate({'p': False}) = \", f.evaluate({'p': False}))"
   ]
  },
  {
   "cell_type": "code",
   "execution_count": 7,
   "id": "6d0199b3",
   "metadata": {},
   "outputs": [
    {
     "name": "stdout",
     "output_type": "stream",
     "text": [
      "str(f):  (!(p)) & (q)\n",
      "repr(f):  <ggsolver.logic.pl.PLFormula object at 0x7ff289b17048>\n",
      "f.evaluate({'p': True, 'q': True}) =  False\n",
      "f.evaluate({'p': False, 'q': True}) =  True\n",
      "f.evaluate({'p': True, 'q': False}) =  False\n",
      "f.evaluate({'p': False, 'q': False}) =  False\n"
     ]
    }
   ],
   "source": [
    "f = PLFormula(\"!p & q\")\n",
    "print(\"str(f): \", str(f))\n",
    "print(\"repr(f): \", repr(f))\n",
    "print(\"f.evaluate({'p': True, 'q': True}) = \", f.evaluate({'p': True, 'q': True}))\n",
    "print(\"f.evaluate({'p': False, 'q': True}) = \", f.evaluate({'p': False, 'q': True}))\n",
    "print(\"f.evaluate({'p': True, 'q': False}) = \", f.evaluate({'p': True, 'q': False}))\n",
    "print(\"f.evaluate({'p': False, 'q': False}) = \", f.evaluate({'p': False, 'q': False}))"
   ]
  },
  {
   "cell_type": "code",
   "execution_count": 8,
   "id": "3dda45c4",
   "metadata": {},
   "outputs": [
    {
     "name": "stdout",
     "output_type": "stream",
     "text": [
      "str(f):  (!(p)) | (q)\n",
      "repr(f):  <ggsolver.logic.pl.PLFormula object at 0x7ff289b17240>\n",
      "f.evaluate({'p': True, 'q': True}) =  True\n",
      "f.evaluate({'p': False, 'q': True}) =  True\n",
      "f.evaluate({'p': True, 'q': False}) =  False\n",
      "f.evaluate({'p': False, 'q': False}) =  True\n"
     ]
    }
   ],
   "source": [
    "f = PLFormula(\"~p | q\")\n",
    "print(\"str(f): \", str(f))\n",
    "print(\"repr(f): \", repr(f))\n",
    "print(\"f.evaluate({'p': True, 'q': True}) = \", f.evaluate({'p': True, 'q': True}))\n",
    "print(\"f.evaluate({'p': False, 'q': True}) = \", f.evaluate({'p': False, 'q': True}))\n",
    "print(\"f.evaluate({'p': True, 'q': False}) = \", f.evaluate({'p': True, 'q': False}))\n",
    "print(\"f.evaluate({'p': False, 'q': False}) = \", f.evaluate({'p': False, 'q': False}))"
   ]
  }
 ],
 "metadata": {
  "kernelspec": {
   "display_name": "Python 3 (ipykernel)",
   "language": "python",
   "name": "python3"
  },
  "language_info": {
   "codemirror_mode": {
    "name": "ipython",
    "version": 3
   },
   "file_extension": ".py",
   "mimetype": "text/x-python",
   "name": "python",
   "nbconvert_exporter": "python",
   "pygments_lexer": "ipython3",
   "version": "3.7.3"
  }
 },
 "nbformat": 4,
 "nbformat_minor": 5
}
