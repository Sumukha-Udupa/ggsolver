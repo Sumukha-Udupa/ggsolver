{
 "cells": [
  {
   "cell_type": "code",
   "execution_count": 1,
   "id": "702e85f4",
   "metadata": {},
   "outputs": [],
   "source": [
    "import sys\n",
    "sys.path.append('/home/ggsolver/')"
   ]
  },
  {
   "cell_type": "code",
   "execution_count": 2,
   "id": "1b0d00aa",
   "metadata": {},
   "outputs": [],
   "source": [
    "import itertools\n",
    "import networkx as nx\n",
    "import spot\n",
    "\n",
    "from pathlib import Path\n",
    "from lark import Lark, Transformer, Tree, Visitor\n",
    "from ggsolver.logic.formula import BaseFormula, PARSERS_DIR\n",
    "from ggsolver.logic import ScLTLFormula\n",
    "from ggsolver.logic.automata import PrefDfa, cross_product"
   ]
  },
  {
   "cell_type": "code",
   "execution_count": 4,
   "id": "22ff331a",
   "metadata": {},
   "outputs": [],
   "source": [
    "ebnf_scltl = \\\n",
    "\"\"\"\n",
    "start: wrapped_formula | formula\n",
    "\n",
    "wrapped_formula: \"(\" start \")\"\n",
    "formula: binary_op | unary_op | atom\n",
    "\n",
    "binary_op: and_op | or_op | until_op\n",
    "unary_op: not_op | next_op | eventually_op\n",
    "\n",
    "and_op: start \"&\" start\n",
    "or_op: start \"|\" start\n",
    "until_op: start \"U\" start\n",
    "\n",
    "not_op: \"!\" atom\n",
    "next_op: \"X\" start\n",
    "eventually_op: \"F\" start\n",
    "\n",
    "atom: VALID_NAME\n",
    "\n",
    "VALID_NAME: /[a-z][a-z0-9_]*/\n",
    "\n",
    "%ignore /\\s+/\n",
    "\"\"\""
   ]
  },
  {
   "cell_type": "code",
   "execution_count": 5,
   "id": "ab73197d",
   "metadata": {},
   "outputs": [],
   "source": [
    "scltl_parser = Lark(ebnf_scltl, parser=\"lalr\")"
   ]
  },
  {
   "cell_type": "code",
   "execution_count": 6,
   "id": "64300794",
   "metadata": {},
   "outputs": [
    {
     "data": {
      "text/plain": [
       "Tree('start', [Tree('formula', [Tree('binary_op', [Tree('and_op', [Tree('start', [Tree('formula', [Tree('atom', [Token('VALID_NAME', 'a')])])]), Tree('start', [Tree('formula', [Tree('atom', [Token('VALID_NAME', 'b')])])])])])])])"
      ]
     },
     "execution_count": 6,
     "metadata": {},
     "output_type": "execute_result"
    }
   ],
   "source": [
    "scltl_parser.parse(\"a & b\")"
   ]
  },
  {
   "cell_type": "code",
   "execution_count": 8,
   "id": "716ad1ff",
   "metadata": {},
   "outputs": [],
   "source": [
    "ebnf_pref = \\\n",
    "\"\"\"\n",
    "start: pref_or\n",
    "\n",
    "?pref_or: pref_and (\"|\" pref_and)*\n",
    "?pref_and: atomic_pref (\"&\" atomic_pref)*\n",
    "?atomic_pref: strict\n",
    "            | weak\n",
    "            | indifference\n",
    "            | wrapped_pref\n",
    "            \n",
    "strict: scltl_formula \">\" scltl_formula\n",
    "weak: scltl_formula \">=\" scltl_formula\n",
    "indifference: scltl_formula \"~\" scltl_formula\n",
    "wrapped_pref: \"(\" atomic_pref \")\"\n",
    "\n",
    "?scltl_formula: scltl_or\n",
    "?scltl_or: scltl_and (\"|\" scltl_and)*\n",
    "?scltl_and: scltl_until (\"&\" scltl_until)*\n",
    "?scltl_until: scltl_unary_op (\"U\" scltl_unary_op)*\n",
    "\n",
    "?scltl_unary_op: eventually\n",
    "                | next\n",
    "                | not\n",
    "                | wrapped_scltl\n",
    "\n",
    "eventually: \"F\" scltl_formula\n",
    "next: \"X\" scltl_formula\n",
    "not: \"!\" atom\n",
    "?wrapped_scltl: atom\n",
    "                | \"(\" scltl_formula \")\"\n",
    "\n",
    "atom: true | false | VALID_NAME\n",
    "\n",
    "true: /(?i:true)/\n",
    "false: /(?i:false)/\n",
    "VALID_NAME.2: /[a-z][a-z0-9_]*/\n",
    "\n",
    "%ignore /\\s+/\n",
    "\"\"\""
   ]
  },
  {
   "cell_type": "code",
   "execution_count": 9,
   "id": "8d0df55f",
   "metadata": {},
   "outputs": [],
   "source": [
    "parser = Lark(ebnf_pref, parser=\"lalr\")"
   ]
  },
  {
   "cell_type": "code",
   "execution_count": 11,
   "id": "5c2eb923",
   "metadata": {},
   "outputs": [
    {
     "data": {
      "text/plain": [
       "Tree('start', [Tree('pref_and', [Tree('wrapped_pref', [Tree('strict', [Tree('eventually', [Tree('scltl_and', [Tree('atom', [Token('VALID_NAME', 'b')]), Tree('atom', [Token('VALID_NAME', 'c')])])]), Tree('atom', [Token('VALID_NAME', 'a')])])]), Tree('wrapped_pref', [Tree('weak', [Tree('atom', [Token('VALID_NAME', 'a')]), Tree('atom', [Token('VALID_NAME', 'b')])])])])])"
      ]
     },
     "execution_count": 11,
     "metadata": {},
     "output_type": "execute_result"
    }
   ],
   "source": [
    "tree = parser.parse(\"(F(b & c) > a) & (a >= b)\")\n",
    "tree"
   ]
  }
 ],
 "metadata": {
  "kernelspec": {
   "display_name": "Python 3 (ipykernel)",
   "language": "python",
   "name": "python3"
  },
  "language_info": {
   "codemirror_mode": {
    "name": "ipython",
    "version": 3
   },
   "file_extension": ".py",
   "mimetype": "text/x-python",
   "name": "python",
   "nbconvert_exporter": "python",
   "pygments_lexer": "ipython3",
   "version": "3.7.3"
  }
 },
 "nbformat": 4,
 "nbformat_minor": 5
}
