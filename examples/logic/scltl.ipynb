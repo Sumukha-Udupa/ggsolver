{
 "cells": [
  {
   "cell_type": "code",
   "execution_count": 1,
   "id": "75220619",
   "metadata": {},
   "outputs": [],
   "source": [
    "import sys\n",
    "sys.path.append('/home/ggsolver/')"
   ]
  },
  {
   "cell_type": "code",
   "execution_count": 2,
   "id": "bc947181",
   "metadata": {},
   "outputs": [],
   "source": [
    "from ggsolver.logic import ScLTLFormula"
   ]
  },
  {
   "cell_type": "code",
   "execution_count": 3,
   "id": "df5cd032",
   "metadata": {},
   "outputs": [
    {
     "name": "stdout",
     "output_type": "stream",
     "text": [
      "str(f):  true\n",
      "repr(f):  <ggsolver.logic.scltl.ScLTLFormula object at 0x7f28b4065b00>\n",
      "f.evaluate() =  True\n"
     ]
    }
   ],
   "source": [
    "f = ScLTLFormula(\"true\")\n",
    "print(\"str(f): \", str(f))\n",
    "print(\"repr(f): \", repr(f))\n",
    "print(\"f.evaluate() = \", f.evaluate())"
   ]
  },
  {
   "cell_type": "code",
   "execution_count": 4,
   "id": "468fc1bc",
   "metadata": {},
   "outputs": [
    {
     "name": "stdout",
     "output_type": "stream",
     "text": [
      "str(f):  false\n",
      "repr(f):  <ggsolver.logic.scltl.ScLTLFormula object at 0x7f28b40657b8>\n",
      "f.evaluate() =  False\n"
     ]
    }
   ],
   "source": [
    "f = ScLTLFormula(\"false\")\n",
    "print(\"str(f): \", str(f))\n",
    "print(\"repr(f): \", repr(f))\n",
    "print(\"f.evaluate() = \", f.evaluate())"
   ]
  },
  {
   "cell_type": "code",
   "execution_count": 5,
   "id": "703365dd",
   "metadata": {},
   "outputs": [
    {
     "name": "stdout",
     "output_type": "stream",
     "text": [
      "str(f):  F(a)\n",
      "repr(f):  <ggsolver.logic.scltl.ScLTLFormula object at 0x7f28b4065d30>\n"
     ]
    }
   ],
   "source": [
    "f = ScLTLFormula(\"Fa\")\n",
    "print(\"str(f): \", str(f))\n",
    "print(\"repr(f): \", repr(f))\n",
    "# print(\"f.evaluate() = \", f.evaluate())"
   ]
  },
  {
   "cell_type": "code",
   "execution_count": 7,
   "id": "cd4f1e3e",
   "metadata": {},
   "outputs": [
    {
     "name": "stdout",
     "output_type": "stream",
     "text": [
      "str(f):  F(!(a))\n",
      "repr(f):  <ggsolver.logic.scltl.ScLTLFormula object at 0x7f28b40ac978>\n",
      "True\n",
      "f.evaluate() =  False\n"
     ]
    }
   ],
   "source": [
    "f = ScLTLFormula(\"F!a\")\n",
    "print(\"str(f): \", str(f))\n",
    "print(\"repr(f): \", repr(f))\n",
    "print(\"f.evaluate() = \", f.evaluate({'a': True}))"
   ]
  },
  {
   "cell_type": "markdown",
   "id": "4fc3292c",
   "metadata": {},
   "source": [
    "## Translation"
   ]
  },
  {
   "cell_type": "code",
   "execution_count": 9,
   "id": "e0de9217",
   "metadata": {},
   "outputs": [
    {
     "name": "stdout",
     "output_type": "stream",
     "text": [
      "\n",
      "    This Dfa has 3 states.\n",
      "    Alphabet: {'b', 'a'}\n",
      "    Starting state: 1\n",
      "    Accepting states: {0}\n",
      "    States: [0, 2, 1]\n",
      "    Transition function:\n",
      "\t\t0 -- {} --> 2\n",
      "\t\t0 -- {'b'} --> 0\n",
      "\t\t0 -- {'a'} --> 2\n",
      "\t\t0 -- {'b', 'a'} --> 0\n",
      "\t\t2 -- {} --> 2\n",
      "\t\t2 -- {'b'} --> 2\n",
      "\t\t2 -- {'a'} --> 2\n",
      "\t\t2 -- {'b', 'a'} --> 2\n",
      "\t\t1 -- {} --> 2\n",
      "\t\t1 -- {'b'} --> 1\n",
      "\t\t1 -- {'a'} --> 2\n",
      "\t\t1 -- {'b', 'a'} --> 0\n"
     ]
    }
   ],
   "source": [
    "f = ScLTLFormula(\"Fa & Gb\")\n",
    "aut = f.translate()\n",
    "print(aut)"
   ]
  },
  {
   "cell_type": "code",
   "execution_count": null,
   "id": "516542db",
   "metadata": {},
   "outputs": [],
   "source": []
  }
 ],
 "metadata": {
  "kernelspec": {
   "display_name": "Python 3 (ipykernel)",
   "language": "python",
   "name": "python3"
  },
  "language_info": {
   "codemirror_mode": {
    "name": "ipython",
    "version": 3
   },
   "file_extension": ".py",
   "mimetype": "text/x-python",
   "name": "python",
   "nbconvert_exporter": "python",
   "pygments_lexer": "ipython3",
   "version": "3.7.3"
  }
 },
 "nbformat": 4,
 "nbformat_minor": 5
}
