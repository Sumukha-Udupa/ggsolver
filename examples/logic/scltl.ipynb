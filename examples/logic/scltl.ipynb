{
 "cells": [
  {
   "cell_type": "code",
   "execution_count": 1,
   "id": "75220619",
   "metadata": {},
   "outputs": [],
   "source": [
    "import sys\n",
    "sys.path.append('/home/ggsolver/')"
   ]
  },
  {
   "cell_type": "code",
   "execution_count": 2,
   "id": "bc947181",
   "metadata": {},
   "outputs": [],
   "source": [
    "from ggsolver.logic import ScLTLFormula"
   ]
  },
  {
   "cell_type": "code",
   "execution_count": 4,
   "id": "df5cd032",
   "metadata": {},
   "outputs": [
    {
     "name": "stdout",
     "output_type": "stream",
     "text": [
      "str(f):  true\n",
      "repr(f):  <ggsolver.logic.scltl.ScLTLFormula object at 0x7fdf26abd860>\n",
      "f.evaluate() =  True\n"
     ]
    }
   ],
   "source": [
    "f = ScLTLFormula(\"true\")\n",
    "print(\"str(f): \", str(f))\n",
    "print(\"repr(f): \", repr(f))\n",
    "print(\"f.evaluate() = \", f.evaluate())"
   ]
  },
  {
   "cell_type": "code",
   "execution_count": 5,
   "id": "468fc1bc",
   "metadata": {},
   "outputs": [
    {
     "name": "stdout",
     "output_type": "stream",
     "text": [
      "str(f):  false\n",
      "repr(f):  <ggsolver.logic.scltl.ScLTLFormula object at 0x7fdf26abd780>\n",
      "f.evaluate() =  False\n"
     ]
    }
   ],
   "source": [
    "f = ScLTLFormula(\"false\")\n",
    "print(\"str(f): \", str(f))\n",
    "print(\"repr(f): \", repr(f))\n",
    "print(\"f.evaluate() = \", f.evaluate())"
   ]
  },
  {
   "cell_type": "code",
   "execution_count": 6,
   "id": "703365dd",
   "metadata": {},
   "outputs": [
    {
     "name": "stdout",
     "output_type": "stream",
     "text": [
      "str(f):  F(a)\n",
      "repr(f):  <ggsolver.logic.scltl.ScLTLFormula object at 0x7fdf26abd5c0>\n"
     ]
    }
   ],
   "source": [
    "f = ScLTLFormula(\"Fa\")\n",
    "print(\"str(f): \", str(f))\n",
    "print(\"repr(f): \", repr(f))\n",
    "# print(\"f.evaluate() = \", f.evaluate())"
   ]
  },
  {
   "cell_type": "code",
   "execution_count": 9,
   "id": "e0de9217",
   "metadata": {},
   "outputs": [
    {
     "data": {
      "text/plain": [
       "\"\\n    This Dfa has 2 states.\\n    Alphabet: {'a'}\\n    Starting state: 1\\n    Accepting states: {0}\\n    States: [0, 1]\\n    Transition function:\\n\\t\\t0 -- {} --> 0\\n\\t\\t0 -- {'a'} --> 0\\n\\t\\t1 -- {} --> 1\\n\\t\\t1 -- {'a'} --> 0\""
      ]
     },
     "execution_count": 9,
     "metadata": {},
     "output_type": "execute_result"
    }
   ],
   "source": [
    "aut = f.translate()\n",
    "str(aut)"
   ]
  },
  {
   "cell_type": "code",
   "execution_count": 11,
   "id": "cd4f1e3e",
   "metadata": {},
   "outputs": [
    {
     "name": "stdout",
     "output_type": "stream",
     "text": [
      "str(f):  F(!(a))\n",
      "repr(f):  <ggsolver.logic.scltl.ScLTLFormula object at 0x7fdf26aafdd8>\n",
      "True\n",
      "f.evaluate() =  False\n"
     ]
    }
   ],
   "source": [
    "f = ScLTLFormula(\"F!a\")\n",
    "print(\"str(f): \", str(f))\n",
    "print(\"repr(f): \", repr(f))\n",
    "print(\"f.evaluate() = \", f.evaluate({'a': True}))"
   ]
  }
 ],
 "metadata": {
  "kernelspec": {
   "display_name": "Python 3 (ipykernel)",
   "language": "python",
   "name": "python3"
  },
  "language_info": {
   "codemirror_mode": {
    "name": "ipython",
    "version": 3
   },
   "file_extension": ".py",
   "mimetype": "text/x-python",
   "name": "python",
   "nbconvert_exporter": "python",
   "pygments_lexer": "ipython3",
   "version": "3.7.3"
  }
 },
 "nbformat": 4,
 "nbformat_minor": 5
}
