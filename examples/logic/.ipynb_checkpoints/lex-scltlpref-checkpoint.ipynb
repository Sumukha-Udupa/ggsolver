{
 "cells": [
  {
   "cell_type": "code",
   "execution_count": 1,
   "id": "46487d98",
   "metadata": {},
   "outputs": [],
   "source": [
    "import sys\n",
    "sys.path.append('/home/ggsolver/')"
   ]
  },
  {
   "cell_type": "code",
   "execution_count": 2,
   "id": "6148509d",
   "metadata": {},
   "outputs": [],
   "source": [
    "import itertools\n",
    "import networkx as nx\n",
    "import spot\n",
    "\n",
    "from pathlib import Path\n",
    "from lark import Lark, Transformer, Tree, Visitor\n",
    "from ggsolver.logic.formula import BaseFormula, PARSERS_DIR\n",
    "from ggsolver.logic import ScLTLFormula\n",
    "from ggsolver.logic.automata import PrefDfa, cross_product"
   ]
  },
  {
   "cell_type": "code",
   "execution_count": 9,
   "id": "f2b240c6",
   "metadata": {},
   "outputs": [],
   "source": [
    "ebnf_scltl = \\\n",
    "\"\"\"\n",
    "start: wrapped_formula | formula\n",
    "\n",
    "wrapped_formula: \"(\" start \")\"\n",
    "formula: binary_op | unary_op | atom\n",
    "\n",
    "binary_op: and_op | or_op | until_op\n",
    "unary_op: not_op | next_op | eventually_op\n",
    "\n",
    "and_op: start \"&\" start\n",
    "or_op: start \"|\" start\n",
    "until_op: start \"U\" start\n",
    "\n",
    "not_op: \"!\" atom\n",
    "next_op: \"X\" start\n",
    "eventually_op: \"F\" start\n",
    "\n",
    "atom: TRUE | FALSE | VALID_NAME\n",
    "\n",
    "TRUE.2: /(?i:true)/\n",
    "FALSE.2: /(?i:false)/\n",
    "VALID_NAME: /(?!(true|false)\\b)[a-z][a-z0-9_]*/i\n",
    "\n",
    "// /[a-z][a-z0-9_]*/\n",
    "\n",
    "%ignore /\\s+/\n",
    "\"\"\""
   ]
  },
  {
   "cell_type": "code",
   "execution_count": 10,
   "id": "89c6b708",
   "metadata": {},
   "outputs": [],
   "source": [
    "scltl_parser = Lark(ebnf_scltl, parser=\"lalr\")"
   ]
  },
  {
   "cell_type": "code",
   "execution_count": 12,
   "id": "f11ce971",
   "metadata": {},
   "outputs": [
    {
     "data": {
      "text/plain": [
       "Tree('start', [Tree('formula', [Tree('atom', [Token('FALSE', 'false')])])])"
      ]
     },
     "execution_count": 12,
     "metadata": {},
     "output_type": "execute_result"
    }
   ],
   "source": [
    "scltl_parser.parse(\"false\")"
   ]
  },
  {
   "cell_type": "code",
   "execution_count": 6,
   "id": "36cd77e9",
   "metadata": {},
   "outputs": [],
   "source": [
    "ebnf_pref = \\\n",
    "\"\"\"\n",
    "start: pref_or\n",
    "\n",
    "?pref_or: pref_and (\"|\" pref_and)*\n",
    "?pref_and: atomic_pref (\"&\" atomic_pref)*\n",
    "?atomic_pref: strict\n",
    "            | weak\n",
    "            | indifference\n",
    "            | wrapped_pref\n",
    "            \n",
    "strict: scltl_formula \">\" scltl_formula\n",
    "weak: scltl_formula \">=\" scltl_formula\n",
    "indifference: scltl_formula \"~\" scltl_formula\n",
    "wrapped_pref: \"(\" atomic_pref \")\"\n",
    "\n",
    "?scltl_formula: scltl_or\n",
    "?scltl_or: scltl_and (\"|\" scltl_and)*\n",
    "?scltl_and: scltl_until (\"&\" scltl_until)*\n",
    "?scltl_until: scltl_unary_op (\"U\" scltl_unary_op)*\n",
    "\n",
    "?scltl_unary_op: eventually\n",
    "                | next\n",
    "                | not\n",
    "                | wrapped_scltl\n",
    "\n",
    "eventually: \"F\" scltl_formula\n",
    "next: \"X\" scltl_formula\n",
    "not: \"!\" atom\n",
    "?wrapped_scltl: atom\n",
    "                | \"(\" scltl_formula \")\"\n",
    "\n",
    "atom: TRUE | FALSE | VALID_NAME\n",
    "\n",
    "TRUE.2: /(?i:true)/\n",
    "FALSE.2: /(?i:false)/\n",
    "VALID_NAME: /(?!(true|false)\\b)[a-z][a-z0-9_]*/i\n",
    "\n",
    "%ignore /\\s+/\n",
    "\"\"\""
   ]
  },
  {
   "cell_type": "code",
   "execution_count": 7,
   "id": "28a88c08",
   "metadata": {},
   "outputs": [],
   "source": [
    "parser = Lark(ebnf_pref, parser=\"lalr\")"
   ]
  },
  {
   "cell_type": "code",
   "execution_count": 8,
   "id": "8de16331",
   "metadata": {},
   "outputs": [
    {
     "data": {
      "text/plain": [
       "Tree('start', [Tree('pref_and', [Tree('wrapped_pref', [Tree('strict', [Tree('eventually', [Tree('scltl_and', [Tree('atom', [Token('VALID_NAME', 'b')]), Tree('atom', [Token('VALID_NAME', 'c')])])]), Tree('atom', [Token('VALID_NAME', 'a')])])]), Tree('wrapped_pref', [Tree('weak', [Tree('atom', [Token('VALID_NAME', 'a')]), Tree('atom', [Token('VALID_NAME', 'b')])])])])])"
      ]
     },
     "execution_count": 8,
     "metadata": {},
     "output_type": "execute_result"
    }
   ],
   "source": [
    "tree = parser.parse(\"(F(b & c) > a) & (a >= b)\")\n",
    "tree"
   ]
  }
 ],
 "metadata": {
  "kernelspec": {
   "display_name": "Python 3 (ipykernel)",
   "language": "python",
   "name": "python3"
  },
  "language_info": {
   "codemirror_mode": {
    "name": "ipython",
    "version": 3
   },
   "file_extension": ".py",
   "mimetype": "text/x-python",
   "name": "python",
   "nbconvert_exporter": "python",
   "pygments_lexer": "ipython3",
   "version": "3.7.3"
  }
 },
 "nbformat": 4,
 "nbformat_minor": 5
}
