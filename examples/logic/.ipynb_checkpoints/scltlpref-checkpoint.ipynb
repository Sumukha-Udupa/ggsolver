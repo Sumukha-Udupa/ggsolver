{
 "cells": [
  {
   "cell_type": "code",
   "execution_count": 1,
   "id": "44e4f787",
   "metadata": {},
   "outputs": [],
   "source": [
    "import sys\n",
    "sys.path.append('/home/ggsolver/')"
   ]
  },
  {
   "cell_type": "code",
   "execution_count": 3,
   "id": "68525a2f",
   "metadata": {},
   "outputs": [],
   "source": [
    "from ggsolver.logic import ScLTLPrefFormula"
   ]
  },
  {
   "cell_type": "code",
   "execution_count": 11,
   "id": "d35ba15b",
   "metadata": {},
   "outputs": [],
   "source": [
    "f = ScLTLPrefFormula(\"a > b\")"
   ]
  },
  {
   "cell_type": "code",
   "execution_count": null,
   "id": "ab96127a",
   "metadata": {},
   "outputs": [],
   "source": [
    "f = ScLTLPrefFormula(\"!a >= b\")"
   ]
  },
  {
   "cell_type": "code",
   "execution_count": null,
   "id": "972db786",
   "metadata": {},
   "outputs": [],
   "source": [
    "f = ScLTLPrefFormula(\"a >= b & b > a\")"
   ]
  },
  {
   "cell_type": "code",
   "execution_count": null,
   "id": "8e64127e",
   "metadata": {},
   "outputs": [],
   "source": [
    "f = ScLTLPrefFormula(\"a >= b | b >= a\")"
   ]
  },
  {
   "cell_type": "code",
   "execution_count": null,
   "id": "a274e636",
   "metadata": {},
   "outputs": [],
   "source": [
    "f = ScLTLPrefFormula(\"a ~ b\")"
   ]
  },
  {
   "cell_type": "code",
   "execution_count": null,
   "id": "253fe717",
   "metadata": {},
   "outputs": [],
   "source": [
    "f = ScLTLPrefFormula(\"Fa > Gb\")"
   ]
  },
  {
   "cell_type": "code",
   "execution_count": null,
   "id": "11efbcd4",
   "metadata": {},
   "outputs": [],
   "source": [
    "f = ScLTLPrefFormula(\"Ga >= Gb & Fa\")"
   ]
  },
  {
   "cell_type": "code",
   "execution_count": null,
   "id": "2e5a5de8",
   "metadata": {},
   "outputs": [],
   "source": []
  }
 ],
 "metadata": {
  "kernelspec": {
   "display_name": "Python 3 (ipykernel)",
   "language": "python",
   "name": "python3"
  },
  "language_info": {
   "codemirror_mode": {
    "name": "ipython",
    "version": 3
   },
   "file_extension": ".py",
   "mimetype": "text/x-python",
   "name": "python",
   "nbconvert_exporter": "python",
   "pygments_lexer": "ipython3",
   "version": "3.7.3"
  }
 },
 "nbformat": 4,
 "nbformat_minor": 5
}
