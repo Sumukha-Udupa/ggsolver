{
 "cells": [
  {
   "cell_type": "code",
   "execution_count": 1,
   "id": "003a483b",
   "metadata": {},
   "outputs": [],
   "source": [
    "import sys\n",
    "sys.path.append('/home/ggsolver/')"
   ]
  },
  {
   "cell_type": "code",
   "execution_count": 2,
   "id": "d2886763",
   "metadata": {},
   "outputs": [],
   "source": [
    "import ggsolver.logic as logic"
   ]
  },
  {
   "cell_type": "code",
   "execution_count": 3,
   "id": "c0573821",
   "metadata": {},
   "outputs": [
    {
     "data": {
      "text/plain": [
       "(<ggsolver.logic.scltlpref.ScLTLPrefFormula at 0x7f820c123b70>, 'a > b')"
      ]
     },
     "execution_count": 3,
     "metadata": {},
     "output_type": "execute_result"
    }
   ],
   "source": [
    "f = logic.ScLTLPrefFormula(\"(a) > (b)\")\n",
    "f, str(f)"
   ]
  },
  {
   "cell_type": "code",
   "execution_count": 4,
   "id": "2b055b9a",
   "metadata": {},
   "outputs": [
    {
     "data": {
      "text/plain": [
       "(<ggsolver.logic.scltlpref.ScLTLPrefFormula at 0x7f820c1412e8>, 'Fa > Fb')"
      ]
     },
     "execution_count": 4,
     "metadata": {},
     "output_type": "execute_result"
    }
   ],
   "source": [
    "f = logic.ScLTLPrefFormula(\"F(a) > F(b)\")\n",
    "f, str(f)"
   ]
  },
  {
   "cell_type": "code",
   "execution_count": 6,
   "id": "0441c5a0",
   "metadata": {},
   "outputs": [
    {
     "data": {
      "text/plain": [
       "NodeView(((0, 0), (0, 1), (1, 0), (1, 1)))"
      ]
     },
     "execution_count": 6,
     "metadata": {},
     "output_type": "execute_result"
    }
   ],
   "source": [
    "aut = f.translate()\n",
    "aut.states()"
   ]
  }
 ],
 "metadata": {
  "kernelspec": {
   "display_name": "Python 3 (ipykernel)",
   "language": "python",
   "name": "python3"
  },
  "language_info": {
   "codemirror_mode": {
    "name": "ipython",
    "version": 3
   },
   "file_extension": ".py",
   "mimetype": "text/x-python",
   "name": "python",
   "nbconvert_exporter": "python",
   "pygments_lexer": "ipython3",
   "version": "3.7.3"
  }
 },
 "nbformat": 4,
 "nbformat_minor": 5
}
